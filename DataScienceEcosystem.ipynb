{
 "cells": [
  {
   "cell_type": "markdown",
   "id": "0386e240-3be9-490d-8ba5-75a1f4af9ebc",
   "metadata": {},
   "source": [
    "# Data Science Tools and Ecosystem"
   ]
  },
  {
   "cell_type": "markdown",
   "id": "193493a1-a6ac-431a-942a-fd62f19ba276",
   "metadata": {},
   "source": [
    "In this notebook, Data Science Tools and Ecosystem are summarized."
   ]
  },
  {
   "cell_type": "markdown",
   "id": "1ce3b6aa-1a45-478c-8803-d891b4035e1f",
   "metadata": {},
   "source": [
    "__Objectives:__\n",
    "- List popular languages for Data Science\n",
    "- Commonly used libraries used by Data Scientists\n",
    "- Tables\n",
    "- Data Science Tools\n",
    "- Arithmetic expressions"
   ]
  },
  {
   "cell_type": "markdown",
   "id": "3bd5e2d7-93ab-468f-84dd-38a31710e9ab",
   "metadata": {},
   "source": [
    "Some of the popular languages that Data Scientists use are:\n",
    "1. Julia\n",
    "2. Python\n",
    "3. R\n",
    "4. SQL\n",
    "5. GO\n",
    "6. Scala"
   ]
  },
  {
   "cell_type": "markdown",
   "id": "fde911f9-8536-499a-8ca7-39006962c335",
   "metadata": {},
   "source": [
    "Some of the commonly used libraries used by Data Scientists include:\n",
    "1. Pandas\n",
    "2. Matplotlib\n",
    "3. Seaborn\n",
    "4. Numpy"
   ]
  },
  {
   "cell_type": "markdown",
   "id": "7a5a004d-62fb-42c8-9c11-bf29a61ddcb6",
   "metadata": {},
   "source": [
    "|Data Science Tools|\n",
    "|----------|\n",
    "|RStudio|\n",
    "|CSCode|\n",
    "|Spyde|"
   ]
  },
  {
   "cell_type": "markdown",
   "id": "1bbdd159-d0fe-4b8e-b517-0b3d13e57cb8",
   "metadata": {},
   "source": [
    "### Below are a few examples of evaluating arithmetic expressions in Python"
   ]
  },
  {
   "cell_type": "code",
   "execution_count": 6,
   "id": "4176cbd0-1c14-4f2b-84a2-3a20f016801d",
   "metadata": {},
   "outputs": [
    {
     "data": {
      "text/plain": [
       "17"
      ]
     },
     "execution_count": 6,
     "metadata": {},
     "output_type": "execute_result"
    }
   ],
   "source": [
    "## This a simple arithmetic expression to mutiply then add integers\n",
    "(3*4)+5"
   ]
  },
  {
   "cell_type": "code",
   "execution_count": 8,
   "id": "b86256ab-43c0-4273-b37a-28a29e4a69fe",
   "metadata": {},
   "outputs": [
    {
     "data": {
      "text/plain": [
       "3.3333333333333335"
      ]
     },
     "execution_count": 8,
     "metadata": {},
     "output_type": "execute_result"
    }
   ],
   "source": [
    "## This will convert 200 minutes to hours by diving by 60\n",
    "200/60"
   ]
  },
  {
   "cell_type": "markdown",
   "id": "23c3d6d5-958f-4853-8e35-2fd824293f26",
   "metadata": {},
   "source": [
    "## Author\n",
    "Evgeniy"
   ]
  }
 ],
 "metadata": {
  "kernelspec": {
   "display_name": "Python",
   "language": "python",
   "name": "conda-env-python-py"
  },
  "language_info": {
   "codemirror_mode": {
    "name": "ipython",
    "version": 3
   },
   "file_extension": ".py",
   "mimetype": "text/x-python",
   "name": "python",
   "nbconvert_exporter": "python",
   "pygments_lexer": "ipython3",
   "version": "3.7.12"
  }
 },
 "nbformat": 4,
 "nbformat_minor": 5
}
